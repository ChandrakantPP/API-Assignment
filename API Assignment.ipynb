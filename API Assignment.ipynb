{
 "cells": [
  {
   "cell_type": "markdown",
   "id": "ec587273-4e2d-43be-a830-6eaeaf64cb6e",
   "metadata": {},
   "source": [
    "Q1. What is an API? Give an example, where an API is used in real life."
   ]
  },
  {
   "cell_type": "markdown",
   "id": "f4b4231b-e2c7-469b-bf03-6a522fd58701",
   "metadata": {},
   "source": [
    "Ans:- API:- API stands for application programming interface, which is a set of definitions and protocols for building and integrating application software.\n",
    "      example:- Weather data is a popular API example that we come across regularly. \n",
    "      \n",
    "     ## API is used in real life.\n",
    "APIs are used to deliver material by streaming services such as Spotify and Netflix."
   ]
  },
  {
   "cell_type": "markdown",
   "id": "52d0e411-c2b5-4747-917c-3df7b0f09de8",
   "metadata": {},
   "source": [
    "Q2. Give advantages and disadvantages of using API."
   ]
  },
  {
   "cell_type": "markdown",
   "id": "1062d749-1540-491e-b144-79ebeaf7fbf9",
   "metadata": {},
   "source": [
    "# advantages:-\n",
    "1) Increased Interoperability\n",
    "2) Improved Efficiency\n",
    "3) Better User Experience\n",
    "4) Increased Flexibility\n",
    "\n",
    "# disadvantages:-\n",
    "1) Security Concerns\n",
    "2) Complexity\n",
    "3) Compatibility Issues"
   ]
  },
  {
   "cell_type": "markdown",
   "id": "467b0ded-a1b5-485d-8d53-18ac913898c2",
   "metadata": {},
   "source": [
    "Q3. What is a Web API? Differentiate between API and Web API."
   ]
  },
  {
   "cell_type": "markdown",
   "id": "a8053a3e-8d2e-481e-a00a-5a7974962cce",
   "metadata": {},
   "source": [
    "Ans:- Web API:- Web API is an API over the web which can be accessed using HTTP protocol.\n",
    "\n",
    "## difference between API and Web API:-\n",
    "Web API require a network. While APIs can be on- or offline, web API must use a network."
   ]
  },
  {
   "cell_type": "markdown",
   "id": "3ca5b7e8-6f92-4b44-b75e-f5a8aa868e2b",
   "metadata": {},
   "source": [
    "Q4. Explain REST and SOAP Architecture. Mention shortcomings of SOAP."
   ]
  },
  {
   "cell_type": "markdown",
   "id": "40441598-3c15-49b4-a804-6eb2331e46eb",
   "metadata": {},
   "source": [
    "Ans:- REST Architecture:- REST, or REpresentational State Transfer, is an architectural style for providing standards between computer systems on the web, making it easier for systems to communicate with each other.\n",
    "      \n",
    "      SOAP Architecture:- SOAP is a protocol for the exchange of information in a distributed environment."
   ]
  },
  {
   "cell_type": "markdown",
   "id": "4087d15c-f6a5-447b-a47b-852a6a2e4258",
   "metadata": {},
   "source": [
    "# shortcomings of SOAP:-\n",
    "SOAP can only transfer messages as XML files, your SOAP API will be less performant, as XML is a verbose format compared to JSON."
   ]
  },
  {
   "cell_type": "markdown",
   "id": "deb619a3-91a6-4bf8-8194-d3df7fe677f7",
   "metadata": {},
   "source": [
    "Q5. Differentiate between REST and SOAP."
   ]
  },
  {
   "cell_type": "markdown",
   "id": "601c159d-554c-4f33-9f89-d8f9176c5ded",
   "metadata": {},
   "source": [
    "Ans:- # Difference between REST and SOAP:-\n",
    "\n",
    "REST:-  REST is a set of guidelines that offers flexible implementation.\n",
    "SOAP:- SOAP is a protocol with specific requirements like XML messaging."
   ]
  }
 ],
 "metadata": {
  "kernelspec": {
   "display_name": "Python 3 (ipykernel)",
   "language": "python",
   "name": "python3"
  },
  "language_info": {
   "codemirror_mode": {
    "name": "ipython",
    "version": 3
   },
   "file_extension": ".py",
   "mimetype": "text/x-python",
   "name": "python",
   "nbconvert_exporter": "python",
   "pygments_lexer": "ipython3",
   "version": "3.10.8"
  }
 },
 "nbformat": 4,
 "nbformat_minor": 5
}
